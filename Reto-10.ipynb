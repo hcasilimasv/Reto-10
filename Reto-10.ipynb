{
 "cells": [
  {
   "cell_type": "code",
   "execution_count": 2,
   "metadata": {},
   "outputs": [
    {
     "name": "stdout",
     "output_type": "stream",
     "text": [
      "El promedio de los numeros escrito es: 46.56751499999999\n"
     ]
    }
   ],
   "source": [
    "numeros = []\n",
    "def calcular_promedio(real):\n",
    "    suma = 0\n",
    "    for n in real:\n",
    "        suma += n\n",
    "    promedio = suma / len(real)\n",
    "    return promedio\n",
    "while True:\n",
    "    try:\n",
    "        n = input(\"Escibe un numero real o escriba 'fin' para terminar: \")\n",
    "        if n.lower() == 'fin':\n",
    "            break\n",
    "        else:\n",
    "            n = float(n)\n",
    "            numeros.append(n)\n",
    "    except ValueError:\n",
    "        print(\"Numero o digitación no valida. Por favor ingrese un número real.\")\n",
    "if numeros:\n",
    "    promedio = calcular_promedio(numeros)\n",
    "    print(f\"El promedio de los numeros escrito es: {promedio}\")\n",
    "else:\n",
    "    print(\"No se escribio ningun numeros.\")"
   ]
  },
  {
   "cell_type": "code",
   "execution_count": 3,
   "metadata": {},
   "outputs": [
    {
     "name": "stdout",
     "output_type": "stream",
     "text": [
      "Escriba los valores para el primer vector:\n",
      "Escriba los valores para el segundo vector:\n",
      "El producto punto entre [1.0, 4.0, 6.0, 7.0] y [2.0, 4.0, 3.0, 8.0] es: 92.0\n"
     ]
    }
   ],
   "source": [
    "def ingresar_vector():\n",
    "    inicio = input(\"Escribe tres o mas numeros separados por comas para calcular el vector (por ejemplo, 1, 2, 3): \")\n",
    "    try:\n",
    "        vec = [float(num) for num in inicio.split(\",\")]\n",
    "        return vec\n",
    "    except ValueError:\n",
    "        print(\"Se ejecuta un error, escibe los  numeros separados por coma\")\n",
    "        return ingresar_vector()\n",
    "def producto_punto(v1, v2):\n",
    "    if len(v1) != len(v2):\n",
    "        raise ValueError(\"Los vectores deben tener la misma longitud\")\n",
    "    resultado = 0\n",
    "    for i in range(len(v1)):\n",
    "        resultado += v1[i] * v2[i]\n",
    "    return resultado\n",
    "print(\"Escriba los valores para el primer vector:\")\n",
    "vec1 = ingresar_vector()\n",
    "print(\"Escriba los valores para el segundo vector:\")\n",
    "vec2 = ingresar_vector()\n",
    "try:\n",
    "    resultado_producto_punto = producto_punto(vec1, vec2)\n",
    "    print(f\"El producto punto entre {vec1} y {vec2} es: {resultado_producto_punto}\")\n",
    "except ValueError as e:\n",
    "    print(e)"
   ]
  },
  {
   "cell_type": "code",
   "execution_count": 5,
   "metadata": {},
   "outputs": [
    {
     "name": "stdout",
     "output_type": "stream",
     "text": [
      "Escriba los numeros (puedes escribir 'fin' para detenerse):\n",
      "Arreglo original: [0, 0, 0, 0, 0, 45, 12, 46, 468]\n",
      "Arreglo con ceros al final: [45, 12, 46, 468, 0, 0, 0, 0, 0]\n"
     ]
    }
   ],
   "source": [
    "def mover_zeros(ar):\n",
    "    ultimo_cero = 0\n",
    "    for i in range(len(ar)):\n",
    "        if ar[i] != 0:\n",
    "            ar[ultimo_cero], ar[i] = ar[i], ar[ultimo_cero]\n",
    "            ultimo_cero += 1\n",
    "    return ar\n",
    "def escriba_numeros():\n",
    "    arr = []\n",
    "    while True:\n",
    "        num = input(\"Escriba los numero (o 'fin' para detenerse)\")\n",
    "        if num.lower() == 'fin':\n",
    "            break\n",
    "        try:\n",
    "            arr.append(int(num))\n",
    "        except ValueError:\n",
    "            print(\"Por favor, escriba un numero valido\")\n",
    "    return arr\n",
    "print(\"Escriba los numeros (puedes escribir 'fin' para detenerse):\")\n",
    "arreglo = escriba_numeros()\n",
    "print(\"Arreglo original:\", arreglo)\n",
    "arreglo_editado = mover_zeros(arreglo)\n",
    "print(\"Arreglo con ceros al final:\", arreglo_editado)"
   ]
  }
 ],
 "metadata": {
  "kernelspec": {
   "display_name": "Python 3",
   "language": "python",
   "name": "python3"
  },
  "language_info": {
   "codemirror_mode": {
    "name": "ipython",
    "version": 3
   },
   "file_extension": ".py",
   "mimetype": "text/x-python",
   "name": "python",
   "nbconvert_exporter": "python",
   "pygments_lexer": "ipython3",
   "version": "3.11.8"
  }
 },
 "nbformat": 4,
 "nbformat_minor": 2
}
